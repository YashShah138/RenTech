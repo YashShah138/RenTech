{
 "cells": [
  {
   "cell_type": "markdown",
   "id": "5040a9d8-8431-4309-9045-997379a03541",
   "metadata": {},
   "source": [
    "# Black Scholes Implementation"
   ]
  },
  {
   "cell_type": "markdown",
   "id": "1b17a257",
   "metadata": {
    "vscode": {
     "languageId": "latex"
    }
   },
   "source": [
    "The formula for a European call option is:\n",
    "\n",
    "$ C(S, t) = S N(d_1) - K e^{-r(T - t)} N(d_2) $\n",
    "\n",
    "\n",
    "where:\n",
    "\n",
    "$ d_1 = \\frac{\\ln\\left(\\frac{S}{K}\\right) + \\left(r + \\frac{\\sigma^2}{2}\\right)(t)}{\\sigma \\sqrt{t}}, \\quad \\\\$\n",
    "$ \\\\d_2 = d_1 - \\sigma \\sqrt{t}. $\n",
    "\n",
    "\n",
    "Definitions:\n",
    "- $ S: \\text{Current stock price} $\n",
    "- $ K: \\text{Strike Price} $\n",
    "- $ t: \\text{Time to Maturity} $\n",
    "- $ {\\sigma}: \\text{Volatility of the asset} $\n",
    "- $ r: \\text{Risk-Free Interest Rate} $\n",
    "- $ N(x): \\text{CDF of the normal distribution} $"
   ]
  }
 ],
 "metadata": {
  "kernelspec": {
   "display_name": "Python 3",
   "language": "python",
   "name": "python3"
  },
  "language_info": {
   "codemirror_mode": {
    "name": "ipython",
    "version": 3
   },
   "file_extension": ".py",
   "mimetype": "text/x-python",
   "name": "python",
   "nbconvert_exporter": "python",
   "pygments_lexer": "ipython3",
   "version": "3.12.4"
  }
 },
 "nbformat": 4,
 "nbformat_minor": 5
}
